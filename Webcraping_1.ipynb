{
 "cells": [
  {
   "cell_type": "code",
   "execution_count": 1,
   "id": "75359445",
   "metadata": {},
   "outputs": [
    {
     "name": "stdout",
     "output_type": "stream",
     "text": [
      "Requirement already satisfied: requests in d:\\new folder\\envs\\dssa\\lib\\site-packages (2.29.0)\n",
      "Requirement already satisfied: beautifulsoup4 in d:\\new folder\\envs\\dssa\\lib\\site-packages (4.11.1)\n",
      "Requirement already satisfied: certifi>=2017.4.17 in d:\\new folder\\envs\\dssa\\lib\\site-packages (from requests) (2022.12.7)\n",
      "Requirement already satisfied: idna<4,>=2.5 in d:\\new folder\\envs\\dssa\\lib\\site-packages (from requests) (3.4)\n",
      "Requirement already satisfied: urllib3<1.27,>=1.21.1 in d:\\new folder\\envs\\dssa\\lib\\site-packages (from requests) (1.26.15)\n",
      "Requirement already satisfied: charset-normalizer<4,>=2 in d:\\new folder\\envs\\dssa\\lib\\site-packages (from requests) (2.1.0)\n",
      "Requirement already satisfied: soupsieve>1.2 in d:\\new folder\\envs\\dssa\\lib\\site-packages (from beautifulsoup4) (2.3.1)\n"
     ]
    }
   ],
   "source": [
    "!pip install requests beautifulsoup4\n"
   ]
  },
  {
   "cell_type": "code",
   "execution_count": null,
   "id": "109078d8",
   "metadata": {},
   "outputs": [],
   "source": [
    "import requests\n",
    "from bs4 import BeautifulSoup\n",
    "import numpy as np\n",
    "import csv\n",
    "from matplotlib.cbook import print_cycles\n",
    "from datetime import datetime\n",
    "import seaborn as sns\n",
    "import matplotlib.pyplot as plt"
   ]
  },
  {
   "cell_type": "code",
   "execution_count": null,
   "id": "488bc086",
   "metadata": {},
   "outputs": [],
   "source": [
    "\n",
    "df=pd.DataFrame()\n",
    "for j in range(1,27):\n",
    "  webpage=requests.get('https://www.commodityonline.com/sellers/vegetables/tomato/61?price_to=500&page={}'.format(j)).text\n",
    "  soup=BeautifulSoup(webpage,'lxml')\n",
    "  veggie=soup.find_all('div',class_='category_30_a')\n",
    "  Date=[]\n",
    "  Price=[]\n",
    "  \n",
    "  for i in veggie:\n",
    "\n",
    "    try:\n",
    "       Date.append(i.find('div',class_='category_31').text.strip())\n",
    "    except:\n",
    "       Date.append(np.nan)\n",
    "\n",
    "    try:\n",
    "       Price.append(i.find('div',class_='category_32').text.strip())\n",
    "    except:\n",
    "       Price.append(np.nan)\n",
    "    \n",
    "\n",
    "  Df=pd.DataFrame({'Date':Date,\n",
    "    'Price':Price\n",
    "    })\n",
    "# setting the index values to false  \n",
    "  data=data.append(Df,ignore_index=True)"
   ]
  },
  {
   "cell_type": "code",
   "execution_count": null,
   "id": "b651f4c0",
   "metadata": {},
   "outputs": [],
   "source": [
    "data"
   ]
  },
  {
   "cell_type": "code",
   "execution_count": null,
   "id": "0a1277c6",
   "metadata": {},
   "outputs": [],
   "source": [
    "data.to_csv('Tomato.csv')"
   ]
  },
  {
   "cell_type": "code",
   "execution_count": null,
   "id": "15d0f325",
   "metadata": {},
   "outputs": [],
   "source": [
    "data.info()"
   ]
  },
  {
   "cell_type": "code",
   "execution_count": null,
   "id": "99c2fa67",
   "metadata": {},
   "outputs": [],
   "source": [
    "#Keeping only the numerical values in prices removing kg and rupee symbol\n",
    "data['new_price'] = data['Price'].apply(lambda x:x[2:4])"
   ]
  },
  {
   "cell_type": "code",
   "execution_count": null,
   "id": "5ea9e3a6",
   "metadata": {},
   "outputs": [],
   "source": [
    "data"
   ]
  },
  {
   "cell_type": "code",
   "execution_count": null,
   "id": "4de93972",
   "metadata": {},
   "outputs": [],
   "source": [
    "# changing the datatype of price from object to integer\n",
    "data['new_price'] = data['new_price'].astype(str).astype(int)"
   ]
  },
  {
   "cell_type": "code",
   "execution_count": null,
   "id": "02bbbab2",
   "metadata": {},
   "outputs": [],
   "source": [
    "# converting date from object to Datetime format\n",
    "data['Date_time'] = pd.to_datetime(data['Date']).dt.normalize()"
   ]
  },
  {
   "cell_type": "code",
   "execution_count": null,
   "id": "2316d3d7",
   "metadata": {},
   "outputs": [],
   "source": [
    "data"
   ]
  },
  {
   "cell_type": "code",
   "execution_count": null,
   "id": "fb7b4b51",
   "metadata": {},
   "outputs": [],
   "source": [
    "data.info()"
   ]
  },
  {
   "cell_type": "code",
   "execution_count": null,
   "id": "2af1298a",
   "metadata": {},
   "outputs": [],
   "source": [
    "#plotting tomato prices over time\n",
    "plt.figure(figsize=(10, 6))\n",
    "sns.lineplot(data=data, x='Date_time', y='new_price')\n",
    "plt.title('Tomato Prices Over Time')\n",
    "plt.xlabel('Date')\n",
    "plt.ylabel('Tomato Price')\n",
    "plt.xticks(rotation=45)\n",
    "plt.show()"
   ]
  },
  {
   "cell_type": "code",
   "execution_count": null,
   "id": "40aa6e11",
   "metadata": {},
   "outputs": [],
   "source": []
  },
  {
   "cell_type": "code",
   "execution_count": null,
   "id": "173cfae0",
   "metadata": {},
   "outputs": [],
   "source": []
  }
 ],
 "metadata": {
  "kernelspec": {
   "display_name": "Python 3 (ipykernel)",
   "language": "python",
   "name": "python3"
  },
  "language_info": {
   "codemirror_mode": {
    "name": "ipython",
    "version": 3
   },
   "file_extension": ".py",
   "mimetype": "text/x-python",
   "name": "python",
   "nbconvert_exporter": "python",
   "pygments_lexer": "ipython3",
   "version": "3.9.12"
  }
 },
 "nbformat": 4,
 "nbformat_minor": 5
}
